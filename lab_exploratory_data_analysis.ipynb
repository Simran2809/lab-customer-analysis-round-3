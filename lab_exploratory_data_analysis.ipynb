{
 "cells": [
  {
   "attachments": {},
   "cell_type": "markdown",
   "metadata": {},
   "source": [
    "# Lab | Customer Analysis Round 3"
   ]
  },
  {
   "cell_type": "code",
   "execution_count": 1,
   "metadata": {},
   "outputs": [],
   "source": [
    "import pandas as pd\n",
    "import numpy as np\n",
    "import matplotlib.pyplot as plt\n",
    "import seaborn as sns"
   ]
  },
  {
   "attachments": {},
   "cell_type": "markdown",
   "metadata": {},
   "source": [
    "EDA (Exploratory Data Analysis) - Complete the following tasks to explore the data:"
   ]
  },
  {
   "cell_type": "code",
   "execution_count": 3,
   "metadata": {},
   "outputs": [],
   "source": [
    "df = pd.read_csv(\"C:\\\\Users\\\\simra\\\\Downloads\\\\Ironhack\\\\Week_1\\\\Day_4\\\\Morning\\\\marketing_customer_analysis.txt\")"
   ]
  },
  {
   "cell_type": "code",
   "execution_count": 10,
   "metadata": {},
   "outputs": [
    {
     "data": {
      "text/plain": [
       "Index(['Unnamed: 0', 'Customer', 'State', 'Customer Lifetime Value',\n",
       "       'Response', 'Coverage', 'Education', 'Effective To Date',\n",
       "       'EmploymentStatus', 'Gender', 'Income', 'Location Code',\n",
       "       'Marital Status', 'Monthly Premium Auto', 'Months Since Last Claim',\n",
       "       'Months Since Policy Inception', 'Number of Open Complaints',\n",
       "       'Number of Policies', 'Policy Type', 'Policy', 'Renew Offer Type',\n",
       "       'Sales Channel', 'Total Claim Amount', 'Vehicle Class', 'Vehicle Size',\n",
       "       'Vehicle Type'],\n",
       "      dtype='object')"
      ]
     },
     "execution_count": 10,
     "metadata": {},
     "output_type": "execute_result"
    }
   ],
   "source": [
    "df.columns"
   ]
  },
  {
   "attachments": {},
   "cell_type": "markdown",
   "metadata": {},
   "source": [
    "1. Show DataFrame info."
   ]
  },
  {
   "cell_type": "code",
   "execution_count": 5,
   "metadata": {},
   "outputs": [
    {
     "name": "stdout",
     "output_type": "stream",
     "text": [
      "<class 'pandas.core.frame.DataFrame'>\n",
      "RangeIndex: 10910 entries, 0 to 10909\n",
      "Data columns (total 26 columns):\n",
      " #   Column                         Non-Null Count  Dtype  \n",
      "---  ------                         --------------  -----  \n",
      " 0   Unnamed: 0                     10910 non-null  int64  \n",
      " 1   Customer                       10910 non-null  object \n",
      " 2   State                          10279 non-null  object \n",
      " 3   Customer Lifetime Value        10910 non-null  float64\n",
      " 4   Response                       10279 non-null  object \n",
      " 5   Coverage                       10910 non-null  object \n",
      " 6   Education                      10910 non-null  object \n",
      " 7   Effective To Date              10910 non-null  object \n",
      " 8   EmploymentStatus               10910 non-null  object \n",
      " 9   Gender                         10910 non-null  object \n",
      " 10  Income                         10910 non-null  int64  \n",
      " 11  Location Code                  10910 non-null  object \n",
      " 12  Marital Status                 10910 non-null  object \n",
      " 13  Monthly Premium Auto           10910 non-null  int64  \n",
      " 14  Months Since Last Claim        10277 non-null  float64\n",
      " 15  Months Since Policy Inception  10910 non-null  int64  \n",
      " 16  Number of Open Complaints      10277 non-null  float64\n",
      " 17  Number of Policies             10910 non-null  int64  \n",
      " 18  Policy Type                    10910 non-null  object \n",
      " 19  Policy                         10910 non-null  object \n",
      " 20  Renew Offer Type               10910 non-null  object \n",
      " 21  Sales Channel                  10910 non-null  object \n",
      " 22  Total Claim Amount             10910 non-null  float64\n",
      " 23  Vehicle Class                  10288 non-null  object \n",
      " 24  Vehicle Size                   10288 non-null  object \n",
      " 25  Vehicle Type                   5429 non-null   object \n",
      "dtypes: float64(4), int64(5), object(17)\n",
      "memory usage: 2.2+ MB\n"
     ]
    }
   ],
   "source": [
    "df.info()"
   ]
  },
  {
   "attachments": {},
   "cell_type": "markdown",
   "metadata": {},
   "source": [
    "2. Describe DataFrame"
   ]
  },
  {
   "cell_type": "code",
   "execution_count": 6,
   "metadata": {},
   "outputs": [
    {
     "data": {
      "text/html": [
       "<div>\n",
       "<style scoped>\n",
       "    .dataframe tbody tr th:only-of-type {\n",
       "        vertical-align: middle;\n",
       "    }\n",
       "\n",
       "    .dataframe tbody tr th {\n",
       "        vertical-align: top;\n",
       "    }\n",
       "\n",
       "    .dataframe thead th {\n",
       "        text-align: right;\n",
       "    }\n",
       "</style>\n",
       "<table border=\"1\" class=\"dataframe\">\n",
       "  <thead>\n",
       "    <tr style=\"text-align: right;\">\n",
       "      <th></th>\n",
       "      <th>Unnamed: 0</th>\n",
       "      <th>Customer Lifetime Value</th>\n",
       "      <th>Income</th>\n",
       "      <th>Monthly Premium Auto</th>\n",
       "      <th>Months Since Last Claim</th>\n",
       "      <th>Months Since Policy Inception</th>\n",
       "      <th>Number of Open Complaints</th>\n",
       "      <th>Number of Policies</th>\n",
       "      <th>Total Claim Amount</th>\n",
       "    </tr>\n",
       "  </thead>\n",
       "  <tbody>\n",
       "    <tr>\n",
       "      <th>count</th>\n",
       "      <td>10910.000000</td>\n",
       "      <td>10910.000000</td>\n",
       "      <td>10910.000000</td>\n",
       "      <td>10910.000000</td>\n",
       "      <td>10277.000000</td>\n",
       "      <td>10910.000000</td>\n",
       "      <td>10277.000000</td>\n",
       "      <td>10910.000000</td>\n",
       "      <td>10910.000000</td>\n",
       "    </tr>\n",
       "    <tr>\n",
       "      <th>mean</th>\n",
       "      <td>5454.500000</td>\n",
       "      <td>8018.241094</td>\n",
       "      <td>37536.284785</td>\n",
       "      <td>93.196059</td>\n",
       "      <td>15.149071</td>\n",
       "      <td>48.091934</td>\n",
       "      <td>0.384256</td>\n",
       "      <td>2.979193</td>\n",
       "      <td>434.888330</td>\n",
       "    </tr>\n",
       "    <tr>\n",
       "      <th>std</th>\n",
       "      <td>3149.590053</td>\n",
       "      <td>6885.081434</td>\n",
       "      <td>30359.195670</td>\n",
       "      <td>34.442532</td>\n",
       "      <td>10.080349</td>\n",
       "      <td>27.940675</td>\n",
       "      <td>0.912457</td>\n",
       "      <td>2.399359</td>\n",
       "      <td>292.180556</td>\n",
       "    </tr>\n",
       "    <tr>\n",
       "      <th>min</th>\n",
       "      <td>0.000000</td>\n",
       "      <td>1898.007675</td>\n",
       "      <td>0.000000</td>\n",
       "      <td>61.000000</td>\n",
       "      <td>0.000000</td>\n",
       "      <td>0.000000</td>\n",
       "      <td>0.000000</td>\n",
       "      <td>1.000000</td>\n",
       "      <td>0.099007</td>\n",
       "    </tr>\n",
       "    <tr>\n",
       "      <th>25%</th>\n",
       "      <td>2727.250000</td>\n",
       "      <td>4014.453113</td>\n",
       "      <td>0.000000</td>\n",
       "      <td>68.000000</td>\n",
       "      <td>6.000000</td>\n",
       "      <td>24.000000</td>\n",
       "      <td>0.000000</td>\n",
       "      <td>1.000000</td>\n",
       "      <td>271.082527</td>\n",
       "    </tr>\n",
       "    <tr>\n",
       "      <th>50%</th>\n",
       "      <td>5454.500000</td>\n",
       "      <td>5771.147235</td>\n",
       "      <td>33813.500000</td>\n",
       "      <td>83.000000</td>\n",
       "      <td>14.000000</td>\n",
       "      <td>48.000000</td>\n",
       "      <td>0.000000</td>\n",
       "      <td>2.000000</td>\n",
       "      <td>382.564630</td>\n",
       "    </tr>\n",
       "    <tr>\n",
       "      <th>75%</th>\n",
       "      <td>8181.750000</td>\n",
       "      <td>8992.779137</td>\n",
       "      <td>62250.750000</td>\n",
       "      <td>109.000000</td>\n",
       "      <td>23.000000</td>\n",
       "      <td>71.000000</td>\n",
       "      <td>0.000000</td>\n",
       "      <td>4.000000</td>\n",
       "      <td>547.200000</td>\n",
       "    </tr>\n",
       "    <tr>\n",
       "      <th>max</th>\n",
       "      <td>10909.000000</td>\n",
       "      <td>83325.381190</td>\n",
       "      <td>99981.000000</td>\n",
       "      <td>298.000000</td>\n",
       "      <td>35.000000</td>\n",
       "      <td>99.000000</td>\n",
       "      <td>5.000000</td>\n",
       "      <td>9.000000</td>\n",
       "      <td>2893.239678</td>\n",
       "    </tr>\n",
       "  </tbody>\n",
       "</table>\n",
       "</div>"
      ],
      "text/plain": [
       "         Unnamed: 0  Customer Lifetime Value        Income  \\\n",
       "count  10910.000000             10910.000000  10910.000000   \n",
       "mean    5454.500000              8018.241094  37536.284785   \n",
       "std     3149.590053              6885.081434  30359.195670   \n",
       "min        0.000000              1898.007675      0.000000   \n",
       "25%     2727.250000              4014.453113      0.000000   \n",
       "50%     5454.500000              5771.147235  33813.500000   \n",
       "75%     8181.750000              8992.779137  62250.750000   \n",
       "max    10909.000000             83325.381190  99981.000000   \n",
       "\n",
       "       Monthly Premium Auto  Months Since Last Claim  \\\n",
       "count          10910.000000             10277.000000   \n",
       "mean              93.196059                15.149071   \n",
       "std               34.442532                10.080349   \n",
       "min               61.000000                 0.000000   \n",
       "25%               68.000000                 6.000000   \n",
       "50%               83.000000                14.000000   \n",
       "75%              109.000000                23.000000   \n",
       "max              298.000000                35.000000   \n",
       "\n",
       "       Months Since Policy Inception  Number of Open Complaints  \\\n",
       "count                   10910.000000               10277.000000   \n",
       "mean                       48.091934                   0.384256   \n",
       "std                        27.940675                   0.912457   \n",
       "min                         0.000000                   0.000000   \n",
       "25%                        24.000000                   0.000000   \n",
       "50%                        48.000000                   0.000000   \n",
       "75%                        71.000000                   0.000000   \n",
       "max                        99.000000                   5.000000   \n",
       "\n",
       "       Number of Policies  Total Claim Amount  \n",
       "count        10910.000000        10910.000000  \n",
       "mean             2.979193          434.888330  \n",
       "std              2.399359          292.180556  \n",
       "min              1.000000            0.099007  \n",
       "25%              1.000000          271.082527  \n",
       "50%              2.000000          382.564630  \n",
       "75%              4.000000          547.200000  \n",
       "max              9.000000         2893.239678  "
      ]
     },
     "execution_count": 6,
     "metadata": {},
     "output_type": "execute_result"
    }
   ],
   "source": [
    "df.describe()"
   ]
  },
  {
   "attachments": {},
   "cell_type": "markdown",
   "metadata": {},
   "source": [
    "3. Show a plot of the total number of responses."
   ]
  },
  {
   "cell_type": "code",
   "execution_count": 17,
   "metadata": {},
   "outputs": [
    {
     "data": {
      "text/plain": [
       "array(['No', 'Yes', nan], dtype=object)"
      ]
     },
     "execution_count": 17,
     "metadata": {},
     "output_type": "execute_result"
    }
   ],
   "source": [
    "df['Response'].unique()"
   ]
  },
  {
   "cell_type": "code",
   "execution_count": 18,
   "metadata": {},
   "outputs": [
    {
     "data": {
      "text/plain": [
       "No     8813\n",
       "Yes    1466\n",
       "Name: Response, dtype: int64"
      ]
     },
     "execution_count": 18,
     "metadata": {},
     "output_type": "execute_result"
    }
   ],
   "source": [
    "df['Response'].value_counts()"
   ]
  },
  {
   "cell_type": "code",
   "execution_count": 19,
   "metadata": {},
   "outputs": [
    {
     "data": {
      "image/png": "[encoded data removed]",
      "text/plain": [
       "<Figure size 640x480 with 1 Axes>"
      ]
     },
     "metadata": {},
     "output_type": "display_data"
    }
   ],
   "source": [
    "fig, ax = plt.subplots()\n",
    "ax.bar(x = df['Response'].value_counts().index, height = df['Response'].value_counts().values)\n",
    "ax.set_xlabel(\"Response\")\n",
    "ax.set_ylabel(\"Count\")\n",
    "ax.set_title(\"The total number of responses\")\n",
    "plt.show()"
   ]
  },
  {
   "attachments": {},
   "cell_type": "markdown",
   "metadata": {},
   "source": [
    "4. Show a plot of the response rate by the sales channel."
   ]
  },
  {
   "cell_type": "code",
   "execution_count": 23,
   "metadata": {},
   "outputs": [
    {
     "data": {
      "text/plain": [
       "Agent          4121\n",
       "Branch         3022\n",
       "Call Center    2141\n",
       "Web            1626\n",
       "Name: Sales Channel, dtype: int64"
      ]
     },
     "execution_count": 23,
     "metadata": {},
     "output_type": "execute_result"
    }
   ],
   "source": [
    "df['Sales Channel'].unique()\n",
    "df['Sales Channel'].value_counts()"
   ]
  },
  {
   "cell_type": "code",
   "execution_count": 21,
   "metadata": {},
   "outputs": [
    {
     "data": {
      "image/png": "[encoded data removed]",
      "text/plain": [
       "<Figure size 640x480 with 1 Axes>"
      ]
     },
     "metadata": {},
     "output_type": "display_data"
    }
   ],
   "source": [
    "fig, ax = plt.subplots()\n",
    "ax.bar(x = df['Sales Channel'].value_counts().index, height = df['Sales Channel'].value_counts().values)\n",
    "ax.set_xlabel(\"Sales Channel\")\n",
    "ax.set_ylabel(\"Count\")\n",
    "ax.set_title(\"The response rate by the sales channel\")\n",
    "plt.show()"
   ]
  },
  {
   "attachments": {},
   "cell_type": "markdown",
   "metadata": {},
   "source": [
    "5. Show a plot of the response rate by the total claim amount."
   ]
  },
  {
   "cell_type": "code",
   "execution_count": 25,
   "metadata": {},
   "outputs": [
    {
     "data": {
      "text/plain": [
       "array([292.8     , 744.924331, 480.      , ..., 273.018929, 381.306996,\n",
       "       618.288849])"
      ]
     },
     "execution_count": 25,
     "metadata": {},
     "output_type": "execute_result"
    }
   ],
   "source": [
    "df['Total Claim Amount'].unique()"
   ]
  },
  {
   "cell_type": "code",
   "execution_count": 26,
   "metadata": {},
   "outputs": [
    {
     "data": {
      "image/png": "[encoded data removed]",
      "text/plain": [
       "<Figure size 640x480 with 1 Axes>"
      ]
     },
     "metadata": {},
     "output_type": "display_data"
    }
   ],
   "source": [
    "fig, ax = plt.subplots()\n",
    "ax.bar(x = df['Total Claim Amount'].value_counts().index, height = df['Total Claim Amount'].value_counts().values)\n",
    "ax.set_xlabel(\"Total Claim Amount\")\n",
    "ax.set_title(\"The response rate by the Total Claim Amount\")\n",
    "plt.show()"
   ]
  },
  {
   "attachments": {},
   "cell_type": "markdown",
   "metadata": {},
   "source": [
    "\n",
    "6. Show a plot of the response rate by income."
   ]
  },
  {
   "cell_type": "code",
   "execution_count": 27,
   "metadata": {},
   "outputs": [
    {
     "data": {
      "text/plain": [
       "array([48029,     0, 22139, ..., 61146, 39837, 64195], dtype=int64)"
      ]
     },
     "execution_count": 27,
     "metadata": {},
     "output_type": "execute_result"
    }
   ],
   "source": [
    "df['Income'].unique()"
   ]
  },
  {
   "cell_type": "code",
   "execution_count": 14,
   "metadata": {},
   "outputs": [
    {
     "data": {
      "image/png": "[encoded data removed]",
      "text/plain": [
       "<Figure size 640x480 with 1 Axes>"
      ]
     },
     "metadata": {},
     "output_type": "display_data"
    }
   ],
   "source": [
    "plt.boxplot(df[df['Response'] == 'Yes']['Income'])\n",
    "plt.xlabel('Response')\n",
    "plt.ylabel('Income')\n",
    "plt.title('Response Rate by Income')\n",
    "plt.show()"
   ]
  }
 ],
 "metadata": {
  "kernelspec": {
   "display_name": "base",
   "language": "python",
   "name": "python3"
  },
  "language_info": {
   "codemirror_mode": {
    "name": "ipython",
    "version": 3
   },
   "file_extension": ".py",
   "mimetype": "text/x-python",
   "name": "python",
   "nbconvert_exporter": "python",
   "pygments_lexer": "ipython3",
   "version": "3.10.9"
  },
  "orig_nbformat": 4
 },
 "nbformat": 4,
 "nbformat_minor": 2
}
